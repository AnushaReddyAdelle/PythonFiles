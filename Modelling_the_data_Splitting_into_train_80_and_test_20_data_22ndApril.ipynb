{
 "cells": [
  {
   "cell_type": "code",
   "execution_count": 1,
   "metadata": {
    "collapsed": true
   },
   "outputs": [],
   "source": [
    "import os"
   ]
  },
  {
   "cell_type": "code",
   "execution_count": 2,
   "metadata": {
    "collapsed": true
   },
   "outputs": [],
   "source": [
    "os.chdir(\"C:\\\\Users\\\\User\\\\Desktop\\\\DataSets\")"
   ]
  },
  {
   "cell_type": "code",
   "execution_count": 3,
   "metadata": {
    "collapsed": true
   },
   "outputs": [],
   "source": [
    "os.chdir(\"C:/Users/User/Desktop/DataSets\")"
   ]
  },
  {
   "cell_type": "code",
   "execution_count": 4,
   "metadata": {
    "collapsed": true
   },
   "outputs": [],
   "source": [
    "wd = os.getcwd()"
   ]
  },
  {
   "cell_type": "code",
   "execution_count": 6,
   "metadata": {},
   "outputs": [
    {
     "name": "stdout",
     "output_type": "stream",
     "text": [
      "C:\\Users\\User\\Desktop\\DataSets\n"
     ]
    }
   ],
   "source": [
    "print(wd)"
   ]
  },
  {
   "cell_type": "code",
   "execution_count": 7,
   "metadata": {},
   "outputs": [
    {
     "name": "stdout",
     "output_type": "stream",
     "text": [
      " Volume in drive C is WIN 7\n",
      " Volume Serial Number is F836-E034\n",
      "\n",
      " Directory of C:\\Users\\User\\Desktop\\DataSets\n",
      "\n",
      "22-Apr-18  08:23 AM    <DIR>          .\n",
      "22-Apr-18  08:23 AM    <DIR>          ..\n",
      "22-Apr-18  08:16 AM             5,155 BikeData.csv\n",
      "22-Apr-18  08:16 AM            90,167 sampledata2.csv\n",
      "22-Apr-18  08:16 AM            24,864 StudentSurvey.csv\n",
      "               3 File(s)        120,186 bytes\n",
      "               2 Dir(s)  212,105,838,592 bytes free\n"
     ]
    }
   ],
   "source": [
    "ls"
   ]
  },
  {
   "cell_type": "code",
   "execution_count": 9,
   "metadata": {},
   "outputs": [],
   "source": [
    "import numpy as np\n",
    "import pandas as pd\n",
    "import matplotlib.pyplot as plt"
   ]
  },
  {
   "cell_type": "code",
   "execution_count": 10,
   "metadata": {
    "collapsed": true
   },
   "outputs": [],
   "source": [
    "bikeData = pd.read_csv(\"BikeData.csv\")"
   ]
  },
  {
   "cell_type": "code",
   "execution_count": 11,
   "metadata": {},
   "outputs": [
    {
     "data": {
      "text/html": [
       "<div>\n",
       "<style>\n",
       "    .dataframe thead tr:only-child th {\n",
       "        text-align: right;\n",
       "    }\n",
       "\n",
       "    .dataframe thead th {\n",
       "        text-align: left;\n",
       "    }\n",
       "\n",
       "    .dataframe tbody tr th {\n",
       "        vertical-align: top;\n",
       "    }\n",
       "</style>\n",
       "<table border=\"1\" class=\"dataframe\">\n",
       "  <thead>\n",
       "    <tr style=\"text-align: right;\">\n",
       "      <th></th>\n",
       "      <th>user_id</th>\n",
       "      <th>age</th>\n",
       "      <th>gender</th>\n",
       "      <th>student</th>\n",
       "      <th>employed</th>\n",
       "      <th>cyc_freq</th>\n",
       "      <th>distance</th>\n",
       "      <th>time</th>\n",
       "      <th>speed</th>\n",
       "    </tr>\n",
       "  </thead>\n",
       "  <tbody>\n",
       "    <tr>\n",
       "      <th>0</th>\n",
       "      <td>1</td>\n",
       "      <td>28</td>\n",
       "      <td>M</td>\n",
       "      <td>1</td>\n",
       "      <td>1</td>\n",
       "      <td>Daily</td>\n",
       "      <td>3.25</td>\n",
       "      <td>15.0</td>\n",
       "      <td>13.00</td>\n",
       "    </tr>\n",
       "    <tr>\n",
       "      <th>1</th>\n",
       "      <td>2</td>\n",
       "      <td>35</td>\n",
       "      <td>M</td>\n",
       "      <td>0</td>\n",
       "      <td>1</td>\n",
       "      <td>Daily</td>\n",
       "      <td>1.11</td>\n",
       "      <td>5.0</td>\n",
       "      <td>13.32</td>\n",
       "    </tr>\n",
       "    <tr>\n",
       "      <th>2</th>\n",
       "      <td>3</td>\n",
       "      <td>28</td>\n",
       "      <td>M</td>\n",
       "      <td>0</td>\n",
       "      <td>1</td>\n",
       "      <td>Daily</td>\n",
       "      <td>5.59</td>\n",
       "      <td>23.0</td>\n",
       "      <td>NaN</td>\n",
       "    </tr>\n",
       "    <tr>\n",
       "      <th>3</th>\n",
       "      <td>4</td>\n",
       "      <td>44</td>\n",
       "      <td>F</td>\n",
       "      <td>0</td>\n",
       "      <td>1</td>\n",
       "      <td>Less than once a month</td>\n",
       "      <td>3.24</td>\n",
       "      <td>24.0</td>\n",
       "      <td>8.10</td>\n",
       "    </tr>\n",
       "    <tr>\n",
       "      <th>4</th>\n",
       "      <td>5</td>\n",
       "      <td>42</td>\n",
       "      <td>M</td>\n",
       "      <td>0</td>\n",
       "      <td>1</td>\n",
       "      <td>Several times per week</td>\n",
       "      <td>NaN</td>\n",
       "      <td>26.0</td>\n",
       "      <td>18.02</td>\n",
       "    </tr>\n",
       "  </tbody>\n",
       "</table>\n",
       "</div>"
      ],
      "text/plain": [
       "   user_id  age gender  student  employed                cyc_freq  distance  \\\n",
       "0        1   28      M        1         1                   Daily      3.25   \n",
       "1        2   35      M        0         1                   Daily      1.11   \n",
       "2        3   28      M        0         1                   Daily      5.59   \n",
       "3        4   44      F        0         1  Less than once a month      3.24   \n",
       "4        5   42      M        0         1  Several times per week       NaN   \n",
       "\n",
       "   time  speed  \n",
       "0  15.0  13.00  \n",
       "1   5.0  13.32  \n",
       "2  23.0    NaN  \n",
       "3  24.0   8.10  \n",
       "4  26.0  18.02  "
      ]
     },
     "execution_count": 11,
     "metadata": {},
     "output_type": "execute_result"
    }
   ],
   "source": [
    "bikeData.head()"
   ]
  },
  {
   "cell_type": "code",
   "execution_count": 12,
   "metadata": {},
   "outputs": [
    {
     "data": {
      "text/html": [
       "<div>\n",
       "<style>\n",
       "    .dataframe thead tr:only-child th {\n",
       "        text-align: right;\n",
       "    }\n",
       "\n",
       "    .dataframe thead th {\n",
       "        text-align: left;\n",
       "    }\n",
       "\n",
       "    .dataframe tbody tr th {\n",
       "        vertical-align: top;\n",
       "    }\n",
       "</style>\n",
       "<table border=\"1\" class=\"dataframe\">\n",
       "  <thead>\n",
       "    <tr style=\"text-align: right;\">\n",
       "      <th></th>\n",
       "      <th>user_id</th>\n",
       "      <th>age</th>\n",
       "      <th>gender</th>\n",
       "      <th>student</th>\n",
       "      <th>employed</th>\n",
       "      <th>cyc_freq</th>\n",
       "      <th>distance</th>\n",
       "      <th>time</th>\n",
       "      <th>speed</th>\n",
       "    </tr>\n",
       "  </thead>\n",
       "  <tbody>\n",
       "    <tr>\n",
       "      <th>0</th>\n",
       "      <td>1</td>\n",
       "      <td>28</td>\n",
       "      <td>M</td>\n",
       "      <td>1</td>\n",
       "      <td>1</td>\n",
       "      <td>Daily</td>\n",
       "      <td>3.25</td>\n",
       "      <td>15.0</td>\n",
       "      <td>13.00</td>\n",
       "    </tr>\n",
       "    <tr>\n",
       "      <th>1</th>\n",
       "      <td>2</td>\n",
       "      <td>35</td>\n",
       "      <td>M</td>\n",
       "      <td>0</td>\n",
       "      <td>1</td>\n",
       "      <td>Daily</td>\n",
       "      <td>1.11</td>\n",
       "      <td>5.0</td>\n",
       "      <td>13.32</td>\n",
       "    </tr>\n",
       "    <tr>\n",
       "      <th>2</th>\n",
       "      <td>3</td>\n",
       "      <td>28</td>\n",
       "      <td>M</td>\n",
       "      <td>0</td>\n",
       "      <td>1</td>\n",
       "      <td>Daily</td>\n",
       "      <td>5.59</td>\n",
       "      <td>23.0</td>\n",
       "      <td>NaN</td>\n",
       "    </tr>\n",
       "    <tr>\n",
       "      <th>3</th>\n",
       "      <td>4</td>\n",
       "      <td>44</td>\n",
       "      <td>F</td>\n",
       "      <td>0</td>\n",
       "      <td>1</td>\n",
       "      <td>Less than once a month</td>\n",
       "      <td>3.24</td>\n",
       "      <td>24.0</td>\n",
       "      <td>8.10</td>\n",
       "    </tr>\n",
       "    <tr>\n",
       "      <th>4</th>\n",
       "      <td>5</td>\n",
       "      <td>42</td>\n",
       "      <td>M</td>\n",
       "      <td>0</td>\n",
       "      <td>1</td>\n",
       "      <td>Several times per week</td>\n",
       "      <td>NaN</td>\n",
       "      <td>26.0</td>\n",
       "      <td>18.02</td>\n",
       "    </tr>\n",
       "    <tr>\n",
       "      <th>5</th>\n",
       "      <td>6</td>\n",
       "      <td>36</td>\n",
       "      <td>M</td>\n",
       "      <td>0</td>\n",
       "      <td>1</td>\n",
       "      <td>Several times per week</td>\n",
       "      <td>3.00</td>\n",
       "      <td>20.0</td>\n",
       "      <td>9.00</td>\n",
       "    </tr>\n",
       "    <tr>\n",
       "      <th>6</th>\n",
       "      <td>7</td>\n",
       "      <td>45</td>\n",
       "      <td>M</td>\n",
       "      <td>0</td>\n",
       "      <td>1</td>\n",
       "      <td>Several times per week</td>\n",
       "      <td>13.03</td>\n",
       "      <td>51.0</td>\n",
       "      <td>15.33</td>\n",
       "    </tr>\n",
       "    <tr>\n",
       "      <th>7</th>\n",
       "      <td>8</td>\n",
       "      <td>54</td>\n",
       "      <td>M</td>\n",
       "      <td>0</td>\n",
       "      <td>1</td>\n",
       "      <td>Several times per week</td>\n",
       "      <td>6.21</td>\n",
       "      <td>39.0</td>\n",
       "      <td>9.55</td>\n",
       "    </tr>\n",
       "    <tr>\n",
       "      <th>8</th>\n",
       "      <td>9</td>\n",
       "      <td>39</td>\n",
       "      <td>M</td>\n",
       "      <td>0</td>\n",
       "      <td>1</td>\n",
       "      <td>Several times per week</td>\n",
       "      <td>13.95</td>\n",
       "      <td>50.0</td>\n",
       "      <td>16.74</td>\n",
       "    </tr>\n",
       "    <tr>\n",
       "      <th>9</th>\n",
       "      <td>10</td>\n",
       "      <td>44</td>\n",
       "      <td>M</td>\n",
       "      <td>0</td>\n",
       "      <td>0</td>\n",
       "      <td>Several times per month</td>\n",
       "      <td>7.40</td>\n",
       "      <td>44.0</td>\n",
       "      <td>10.09</td>\n",
       "    </tr>\n",
       "  </tbody>\n",
       "</table>\n",
       "</div>"
      ],
      "text/plain": [
       "   user_id  age gender  student  employed                 cyc_freq  distance  \\\n",
       "0        1   28      M        1         1                    Daily      3.25   \n",
       "1        2   35      M        0         1                    Daily      1.11   \n",
       "2        3   28      M        0         1                    Daily      5.59   \n",
       "3        4   44      F        0         1   Less than once a month      3.24   \n",
       "4        5   42      M        0         1   Several times per week       NaN   \n",
       "5        6   36      M        0         1   Several times per week      3.00   \n",
       "6        7   45      M        0         1   Several times per week     13.03   \n",
       "7        8   54      M        0         1   Several times per week      6.21   \n",
       "8        9   39      M        0         1   Several times per week     13.95   \n",
       "9       10   44      M        0         0  Several times per month      7.40   \n",
       "\n",
       "   time  speed  \n",
       "0  15.0  13.00  \n",
       "1   5.0  13.32  \n",
       "2  23.0    NaN  \n",
       "3  24.0   8.10  \n",
       "4  26.0  18.02  \n",
       "5  20.0   9.00  \n",
       "6  51.0  15.33  \n",
       "7  39.0   9.55  \n",
       "8  50.0  16.74  \n",
       "9  44.0  10.09  "
      ]
     },
     "execution_count": 12,
     "metadata": {},
     "output_type": "execute_result"
    }
   ],
   "source": [
    "bikeData.head(10)"
   ]
  },
  {
   "cell_type": "code",
   "execution_count": 13,
   "metadata": {},
   "outputs": [
    {
     "data": {
      "text/plain": [
       "(121, 9)"
      ]
     },
     "execution_count": 13,
     "metadata": {},
     "output_type": "execute_result"
    }
   ],
   "source": [
    "bikeData.shape"
   ]
  },
  {
   "cell_type": "code",
   "execution_count": 15,
   "metadata": {},
   "outputs": [
    {
     "data": {
      "text/plain": [
       "121"
      ]
     },
     "execution_count": 15,
     "metadata": {},
     "output_type": "execute_result"
    }
   ],
   "source": [
    "bikeData.shape[0]"
   ]
  },
  {
   "cell_type": "code",
   "execution_count": 16,
   "metadata": {},
   "outputs": [
    {
     "data": {
      "text/plain": [
       "user_id       int64\n",
       "age           int64\n",
       "gender       object\n",
       "student       int64\n",
       "employed      int64\n",
       "cyc_freq     object\n",
       "distance    float64\n",
       "time        float64\n",
       "speed       float64\n",
       "dtype: object"
      ]
     },
     "execution_count": 16,
     "metadata": {},
     "output_type": "execute_result"
    }
   ],
   "source": [
    "bikeData.dtypes"
   ]
  },
  {
   "cell_type": "code",
   "execution_count": 20,
   "metadata": {},
   "outputs": [],
   "source": [
    "bikeData = bikeData.rename(columns={'user_id' : 'UserId'})"
   ]
  },
  {
   "cell_type": "code",
   "execution_count": 21,
   "metadata": {},
   "outputs": [
    {
     "name": "stdout",
     "output_type": "stream",
     "text": [
      "     UserId  age gender  student  employed                 cyc_freq  distance  \\\n",
      "0         1   28      M        1         1                    Daily      3.25   \n",
      "1         2   35      M        0         1                    Daily      1.11   \n",
      "2         3   28      M        0         1                    Daily      5.59   \n",
      "3         4   44      F        0         1   Less than once a month      3.24   \n",
      "4         5   42      M        0         1   Several times per week       NaN   \n",
      "5         6   36      M        0         1   Several times per week      3.00   \n",
      "6         7   45      M        0         1   Several times per week     13.03   \n",
      "7         8   54      M        0         1   Several times per week      6.21   \n",
      "8         9   39      M        0         1   Several times per week     13.95   \n",
      "9        10   44      M        0         0  Several times per month      7.40   \n",
      "10       11   29      M        0         1                    Daily      4.36   \n",
      "11       12   32      M        0         1   Several times per week      5.02   \n",
      "12       13   40      M        0         1   Several times per week      5.01   \n",
      "13       14   29      M        0         1                    Daily      2.62   \n",
      "14       15   26      M        1         1                    Daily     10.94   \n",
      "15       16   39      M        0         1   Several times per week     12.28   \n",
      "16       17   33      M        0         1                    Daily     10.02   \n",
      "17       18   32      F        1         1                    Daily       NaN   \n",
      "18       19   43      M        0         1                    Daily      7.02   \n",
      "19       20   29      M        0         0   Several times per week      3.22   \n",
      "20       21   51      F        0         1   Several times per week      3.40   \n",
      "21       22   36      M        0         1   Several times per week      5.19   \n",
      "22       23   29      M        0         1   Several times per week      4.34   \n",
      "23       24   30      F        0         1   Several times per week      4.89   \n",
      "24       25   30      M        0         1   Several times per week      2.17   \n",
      "25       26   35      M        0         1                    Daily      6.04   \n",
      "26       27   27      F        0         1   Several times per week      0.87   \n",
      "27       28   37      M        0         1   Several times per week      6.85   \n",
      "28       29   27      F        0         1   Several times per week      3.09   \n",
      "29       30   25      M        0         1   Several times per week      8.10   \n",
      "..      ...  ...    ...      ...       ...                      ...       ...   \n",
      "91       92   38      M        0         1                    Daily      1.31   \n",
      "92       93   29      M        0         1   Several times per week      0.52   \n",
      "93       94   36      F        0         1  Several times per month      3.80   \n",
      "94       95   29      M        0         1   Several times per week      5.30   \n",
      "95       96   33      M        0         1                    Daily      7.92   \n",
      "96       97   29      M        1         0   Several times per week      3.52   \n",
      "97       98   37      M        0         1                    Daily      3.13   \n",
      "98       99   43      M        0         1                    Daily      9.72   \n",
      "99      100   30      M        0         1                    Daily      3.85   \n",
      "100     101   40      M        0         1   Several times per week     12.17   \n",
      "101     102   28      M        0         0                    Daily      7.03   \n",
      "102     103   25      F        1         0                    Daily     13.43   \n",
      "103     104   44      M        0         1   Several times per week      9.29   \n",
      "104     105   42      F        0         1                    Daily      1.01   \n",
      "105     106   33      M        0         1   Several times per week      9.15   \n",
      "106     107   37      M        0         1                    Daily     13.47   \n",
      "107     108   32      M        0         1                    Daily      6.10   \n",
      "108     109   51      F        0         1   Several times per week      5.17   \n",
      "109     110   54      M        0         1                    Daily      2.78   \n",
      "110     111   30      M        1         0                    Daily      7.19   \n",
      "111     112   34      M        0         1                    Daily      9.12   \n",
      "112     113   34      M        0         1  Several times per month      0.74   \n",
      "113     114   43      M        0         1   Several times per week     12.85   \n",
      "114     115   33      F        1         1   Several times per week      8.31   \n",
      "115     116   29      F        0         0   Several times per week      3.22   \n",
      "116     117   46      M        0         1                    Daily      8.14   \n",
      "117     118   41      F        0         1   Several times per week      3.00   \n",
      "118     119   44      F        0         1                    Daily      7.84   \n",
      "119     120   46      F        0         1   Several times per week      5.88   \n",
      "120     121   38      M        0         1   Several times per week      9.01   \n",
      "\n",
      "     time  speed  \n",
      "0    15.0  13.00  \n",
      "1     5.0  13.32  \n",
      "2    23.0    NaN  \n",
      "3    24.0   8.10  \n",
      "4    26.0  18.02  \n",
      "5    20.0   9.00  \n",
      "6    51.0  15.33  \n",
      "7    39.0   9.55  \n",
      "8    50.0  16.74  \n",
      "9    44.0  10.09  \n",
      "10    NaN  13.08  \n",
      "11   27.0  11.16  \n",
      "12   23.0  13.07  \n",
      "13   15.0  10.48  \n",
      "14   34.0  19.31  \n",
      "15   40.0  18.42  \n",
      "16   45.0  13.36  \n",
      "17   40.0  14.01  \n",
      "18   28.0  15.04  \n",
      "19   12.0  16.10  \n",
      "20   21.0   9.71  \n",
      "21   21.0  14.83  \n",
      "22   17.0    NaN  \n",
      "23   19.0  15.44  \n",
      "24   10.0  13.02  \n",
      "25   31.0  11.69  \n",
      "26    6.0   8.70  \n",
      "27   26.0  15.81  \n",
      "28    NaN   8.43  \n",
      "29   32.0  15.19  \n",
      "..    ...    ...  \n",
      "91    5.0  15.72  \n",
      "92    3.0  10.40  \n",
      "93   14.0  16.29  \n",
      "94   21.0  15.14  \n",
      "95   49.0   9.70  \n",
      "96   15.0  14.08  \n",
      "97   12.0  15.65  \n",
      "98   45.0  12.96  \n",
      "99   15.0  15.40  \n",
      "100  50.0  14.60  \n",
      "101  32.0  13.18  \n",
      "102  37.0  21.78  \n",
      "103  41.0  13.60  \n",
      "104   6.0  10.10  \n",
      "105  43.0  12.77  \n",
      "106  41.0  19.71  \n",
      "107  35.0  10.46  \n",
      "108  27.0  11.49  \n",
      "109  27.0   6.18  \n",
      "110  26.0  16.59  \n",
      "111  36.0  15.20  \n",
      "112   4.0  11.10  \n",
      "113  25.0  30.84  \n",
      "114  42.0  11.87  \n",
      "115  14.0  13.80  \n",
      "116  40.0  12.21  \n",
      "117  42.0   4.29  \n",
      "118  48.0   9.80  \n",
      "119  26.0  13.57  \n",
      "120  41.0  13.19  \n",
      "\n",
      "[121 rows x 9 columns]\n"
     ]
    }
   ],
   "source": [
    "print(bikeData)"
   ]
  },
  {
   "cell_type": "code",
   "execution_count": 40,
   "metadata": {},
   "outputs": [],
   "source": [
    "mobileData = pd.read_csv(\"MobileData2204.csv\")"
   ]
  },
  {
   "cell_type": "code",
   "execution_count": 30,
   "metadata": {},
   "outputs": [
    {
     "data": {
      "text/plain": [
       "(10, 6)"
      ]
     },
     "execution_count": 30,
     "metadata": {},
     "output_type": "execute_result"
    }
   ],
   "source": [
    "mobileData.shape"
   ]
  },
  {
   "cell_type": "code",
   "execution_count": 59,
   "metadata": {},
   "outputs": [],
   "source": [
    "mobileData.dtypes\n",
    "mobileData=mobileData[['Name','Gender','Color','Age','Salary','PurchaseFlag']]"
   ]
  },
  {
   "cell_type": "code",
   "execution_count": 60,
   "metadata": {
    "collapsed": true
   },
   "outputs": [],
   "source": [
    "x = mobileData.iloc[:,:-1].values"
   ]
  },
  {
   "cell_type": "code",
   "execution_count": 35,
   "metadata": {
    "collapsed": true
   },
   "outputs": [],
   "source": [
    "test = [1,2,4,6,8,10]"
   ]
  },
  {
   "cell_type": "code",
   "execution_count": 36,
   "metadata": {},
   "outputs": [
    {
     "data": {
      "text/plain": [
       "[1, 2, 4, 6, 8, 10]"
      ]
     },
     "execution_count": 36,
     "metadata": {},
     "output_type": "execute_result"
    }
   ],
   "source": [
    "test"
   ]
  },
  {
   "cell_type": "code",
   "execution_count": 37,
   "metadata": {},
   "outputs": [
    {
     "data": {
      "text/plain": [
       "[2, 4, 6]"
      ]
     },
     "execution_count": 37,
     "metadata": {},
     "output_type": "execute_result"
    }
   ],
   "source": [
    "test[1:4]"
   ]
  },
  {
   "cell_type": "code",
   "execution_count": 38,
   "metadata": {},
   "outputs": [
    {
     "data": {
      "text/plain": [
       "10"
      ]
     },
     "execution_count": 38,
     "metadata": {},
     "output_type": "execute_result"
    }
   ],
   "source": [
    "test[-1]"
   ]
  },
  {
   "cell_type": "code",
   "execution_count": 61,
   "metadata": {},
   "outputs": [
    {
     "name": "stdout",
     "output_type": "stream",
     "text": [
      "[['Anusha ' 'F' 'White' 23 25000.0]\n",
      " ['Anvesh' 'M' 'Black' 22 nan]\n",
      " ['Shreshta' 'F' nan 24 20000.0]\n",
      " ['Mounika' 'F' 'White' 25 30000.0]\n",
      " ['Pragna' 'F' nan 23 35000.0]\n",
      " ['Sindhu' 'F' nan 24 nan]\n",
      " ['Tapaswi' 'F' 'Black' 25 29000.0]\n",
      " ['Iqra' 'F' nan 25 nan]\n",
      " ['Nandish' 'M' nan 21 22000.0]\n",
      " ['Govardhan' 'M' 'White' 22 nan]]\n"
     ]
    }
   ],
   "source": [
    "print(x)"
   ]
  },
  {
   "cell_type": "code",
   "execution_count": 62,
   "metadata": {},
   "outputs": [
    {
     "data": {
      "text/plain": [
       "array([['Anusha ', 'F', 'White', 23, 25000.0],\n",
       "       ['Anvesh', 'M', 'Black', 22, nan],\n",
       "       ['Shreshta', 'F', nan, 24, 20000.0],\n",
       "       ['Mounika', 'F', 'White', 25, 30000.0],\n",
       "       ['Pragna', 'F', nan, 23, 35000.0],\n",
       "       ['Sindhu', 'F', nan, 24, nan],\n",
       "       ['Tapaswi', 'F', 'Black', 25, 29000.0],\n",
       "       ['Iqra', 'F', nan, 25, nan],\n",
       "       ['Nandish', 'M', nan, 21, 22000.0],\n",
       "       ['Govardhan', 'M', 'White', 22, nan]], dtype=object)"
      ]
     },
     "execution_count": 62,
     "metadata": {},
     "output_type": "execute_result"
    }
   ],
   "source": [
    "x"
   ]
  },
  {
   "cell_type": "code",
   "execution_count": null,
   "metadata": {
    "collapsed": true
   },
   "outputs": [],
   "source": []
  },
  {
   "cell_type": "code",
   "execution_count": 99,
   "metadata": {
    "collapsed": true
   },
   "outputs": [],
   "source": [
    "y  = mobileData.iloc[:,-1].values"
   ]
  },
  {
   "cell_type": "code",
   "execution_count": 100,
   "metadata": {},
   "outputs": [
    {
     "data": {
      "text/plain": [
       "array(['Yes', 'No', 'Yes', 'Yes', 'No', 'No', 'Yes', 'No', 'No', 'Yes'], dtype=object)"
      ]
     },
     "execution_count": 100,
     "metadata": {},
     "output_type": "execute_result"
    }
   ],
   "source": [
    "y"
   ]
  },
  {
   "cell_type": "code",
   "execution_count": 48,
   "metadata": {
    "collapsed": true
   },
   "outputs": [],
   "source": [
    "from sklearn.preprocessing import Imputer"
   ]
  },
  {
   "cell_type": "code",
   "execution_count": 51,
   "metadata": {
    "collapsed": true
   },
   "outputs": [],
   "source": [
    "?Imputer"
   ]
  },
  {
   "cell_type": "code",
   "execution_count": 69,
   "metadata": {},
   "outputs": [],
   "source": [
    "imp = Imputer(missing_values='NaN', strategy='mean', axis=0)"
   ]
  },
  {
   "cell_type": "code",
   "execution_count": 70,
   "metadata": {},
   "outputs": [],
   "source": [
    "imp = imp.fit(x[:,3:5])"
   ]
  },
  {
   "cell_type": "code",
   "execution_count": 72,
   "metadata": {},
   "outputs": [],
   "source": [
    "x[:,3:5] = imp.transform(x[:,3:5])"
   ]
  },
  {
   "cell_type": "code",
   "execution_count": 73,
   "metadata": {},
   "outputs": [
    {
     "data": {
      "text/plain": [
       "array([['Anusha ', 'F', 'White', 23.0, 25000.0],\n",
       "       ['Anvesh', 'M', 'Black', 22.0, 26833.333333333332],\n",
       "       ['Shreshta', 'F', nan, 24.0, 20000.0],\n",
       "       ['Mounika', 'F', 'White', 25.0, 30000.0],\n",
       "       ['Pragna', 'F', nan, 23.0, 35000.0],\n",
       "       ['Sindhu', 'F', nan, 24.0, 26833.333333333332],\n",
       "       ['Tapaswi', 'F', 'Black', 25.0, 29000.0],\n",
       "       ['Iqra', 'F', nan, 25.0, 26833.333333333332],\n",
       "       ['Nandish', 'M', nan, 21.0, 22000.0],\n",
       "       ['Govardhan', 'M', 'White', 22.0, 26833.333333333332]], dtype=object)"
      ]
     },
     "execution_count": 73,
     "metadata": {},
     "output_type": "execute_result"
    }
   ],
   "source": [
    "x"
   ]
  },
  {
   "cell_type": "code",
   "execution_count": 74,
   "metadata": {},
   "outputs": [
    {
     "data": {
      "text/html": [
       "<div>\n",
       "<style>\n",
       "    .dataframe thead tr:only-child th {\n",
       "        text-align: right;\n",
       "    }\n",
       "\n",
       "    .dataframe thead th {\n",
       "        text-align: left;\n",
       "    }\n",
       "\n",
       "    .dataframe tbody tr th {\n",
       "        vertical-align: top;\n",
       "    }\n",
       "</style>\n",
       "<table border=\"1\" class=\"dataframe\">\n",
       "  <thead>\n",
       "    <tr style=\"text-align: right;\">\n",
       "      <th></th>\n",
       "      <th>Name</th>\n",
       "      <th>Gender</th>\n",
       "      <th>Color</th>\n",
       "      <th>Age</th>\n",
       "      <th>Salary</th>\n",
       "      <th>PurchaseFlag</th>\n",
       "    </tr>\n",
       "  </thead>\n",
       "  <tbody>\n",
       "    <tr>\n",
       "      <th>0</th>\n",
       "      <td>Anusha</td>\n",
       "      <td>F</td>\n",
       "      <td>White</td>\n",
       "      <td>23</td>\n",
       "      <td>25000.0</td>\n",
       "      <td>Yes</td>\n",
       "    </tr>\n",
       "    <tr>\n",
       "      <th>1</th>\n",
       "      <td>Anvesh</td>\n",
       "      <td>M</td>\n",
       "      <td>Black</td>\n",
       "      <td>22</td>\n",
       "      <td>NaN</td>\n",
       "      <td>No</td>\n",
       "    </tr>\n",
       "    <tr>\n",
       "      <th>2</th>\n",
       "      <td>Shreshta</td>\n",
       "      <td>F</td>\n",
       "      <td>NaN</td>\n",
       "      <td>24</td>\n",
       "      <td>20000.0</td>\n",
       "      <td>Yes</td>\n",
       "    </tr>\n",
       "    <tr>\n",
       "      <th>3</th>\n",
       "      <td>Mounika</td>\n",
       "      <td>F</td>\n",
       "      <td>White</td>\n",
       "      <td>25</td>\n",
       "      <td>30000.0</td>\n",
       "      <td>Yes</td>\n",
       "    </tr>\n",
       "    <tr>\n",
       "      <th>4</th>\n",
       "      <td>Pragna</td>\n",
       "      <td>F</td>\n",
       "      <td>NaN</td>\n",
       "      <td>23</td>\n",
       "      <td>35000.0</td>\n",
       "      <td>No</td>\n",
       "    </tr>\n",
       "  </tbody>\n",
       "</table>\n",
       "</div>"
      ],
      "text/plain": [
       "       Name Gender  Color  Age   Salary PurchaseFlag\n",
       "0   Anusha       F  White   23  25000.0          Yes\n",
       "1    Anvesh      M  Black   22      NaN           No\n",
       "2  Shreshta      F    NaN   24  20000.0          Yes\n",
       "3   Mounika      F  White   25  30000.0          Yes\n",
       "4    Pragna      F    NaN   23  35000.0           No"
      ]
     },
     "execution_count": 74,
     "metadata": {},
     "output_type": "execute_result"
    }
   ],
   "source": [
    "mobileData.head()"
   ]
  },
  {
   "cell_type": "code",
   "execution_count": 75,
   "metadata": {
    "collapsed": true
   },
   "outputs": [],
   "source": [
    "from sklearn.preprocessing import LabelEncoder"
   ]
  },
  {
   "cell_type": "code",
   "execution_count": 76,
   "metadata": {
    "collapsed": true
   },
   "outputs": [],
   "source": [
    "?LabelEncoder"
   ]
  },
  {
   "cell_type": "code",
   "execution_count": 77,
   "metadata": {},
   "outputs": [
    {
     "data": {
      "text/plain": [
       "array([['Anusha ', 'F', 'White', 23.0, 25000.0],\n",
       "       ['Anvesh', 'M', 'Black', 22.0, 26833.333333333332],\n",
       "       ['Shreshta', 'F', nan, 24.0, 20000.0],\n",
       "       ['Mounika', 'F', 'White', 25.0, 30000.0],\n",
       "       ['Pragna', 'F', nan, 23.0, 35000.0],\n",
       "       ['Sindhu', 'F', nan, 24.0, 26833.333333333332],\n",
       "       ['Tapaswi', 'F', 'Black', 25.0, 29000.0],\n",
       "       ['Iqra', 'F', nan, 25.0, 26833.333333333332],\n",
       "       ['Nandish', 'M', nan, 21.0, 22000.0],\n",
       "       ['Govardhan', 'M', 'White', 22.0, 26833.333333333332]], dtype=object)"
      ]
     },
     "execution_count": 77,
     "metadata": {},
     "output_type": "execute_result"
    }
   ],
   "source": [
    "x"
   ]
  },
  {
   "cell_type": "code",
   "execution_count": 78,
   "metadata": {
    "collapsed": true
   },
   "outputs": [],
   "source": [
    "labelEnc = LabelEncoder()"
   ]
  },
  {
   "cell_type": "code",
   "execution_count": 79,
   "metadata": {
    "collapsed": true
   },
   "outputs": [],
   "source": [
    "x[:,0] = labelEnc.fit_transform(x[:,0])"
   ]
  },
  {
   "cell_type": "code",
   "execution_count": 80,
   "metadata": {},
   "outputs": [
    {
     "data": {
      "text/plain": [
       "array([[0, 'F', 'White', 23.0, 25000.0],\n",
       "       [1, 'M', 'Black', 22.0, 26833.333333333332],\n",
       "       [7, 'F', nan, 24.0, 20000.0],\n",
       "       [4, 'F', 'White', 25.0, 30000.0],\n",
       "       [6, 'F', nan, 23.0, 35000.0],\n",
       "       [8, 'F', nan, 24.0, 26833.333333333332],\n",
       "       [9, 'F', 'Black', 25.0, 29000.0],\n",
       "       [3, 'F', nan, 25.0, 26833.333333333332],\n",
       "       [5, 'M', nan, 21.0, 22000.0],\n",
       "       [2, 'M', 'White', 22.0, 26833.333333333332]], dtype=object)"
      ]
     },
     "execution_count": 80,
     "metadata": {},
     "output_type": "execute_result"
    }
   ],
   "source": [
    "x"
   ]
  },
  {
   "cell_type": "code",
   "execution_count": 82,
   "metadata": {},
   "outputs": [],
   "source": [
    "x[:,1] = labelEnc.fit_transform(x[:,1])"
   ]
  },
  {
   "cell_type": "code",
   "execution_count": 84,
   "metadata": {},
   "outputs": [
    {
     "data": {
      "text/plain": [
       "array([[0, 0, 'White', 23.0, 25000.0],\n",
       "       [1, 1, 'Black', 22.0, 26833.333333333332],\n",
       "       [7, 0, nan, 24.0, 20000.0],\n",
       "       [4, 0, 'White', 25.0, 30000.0],\n",
       "       [6, 0, nan, 23.0, 35000.0],\n",
       "       [8, 0, nan, 24.0, 26833.333333333332],\n",
       "       [9, 0, 'Black', 25.0, 29000.0],\n",
       "       [3, 0, nan, 25.0, 26833.333333333332],\n",
       "       [5, 1, nan, 21.0, 22000.0],\n",
       "       [2, 1, 'White', 22.0, 26833.333333333332]], dtype=object)"
      ]
     },
     "execution_count": 84,
     "metadata": {},
     "output_type": "execute_result"
    }
   ],
   "source": [
    "x"
   ]
  },
  {
   "cell_type": "code",
   "execution_count": 92,
   "metadata": {},
   "outputs": [],
   "source": [
    "from sklearn.cross_validation import train_test_split"
   ]
  },
  {
   "cell_type": "code",
   "execution_count": 87,
   "metadata": {},
   "outputs": [
    {
     "name": "stdout",
     "output_type": "stream",
     "text": [
      "Requirement already satisfied: scikit-learn in c:\\users\\user\\anaconda3\\lib\\site-packages\n"
     ]
    },
    {
     "name": "stderr",
     "output_type": "stream",
     "text": [
      "You are using pip version 9.0.1, however version 10.0.1 is available.\n",
      "You should consider upgrading via the 'python -m pip install --upgrade pip' command.\n"
     ]
    }
   ],
   "source": [
    "!pip install scikit-learn"
   ]
  },
  {
   "cell_type": "code",
   "execution_count": 94,
   "metadata": {},
   "outputs": [],
   "source": [
    "x_train,x_test,y_train,y_test = train_test_split(x,y,test_size=0.20)"
   ]
  },
  {
   "cell_type": "code",
   "execution_count": 93,
   "metadata": {
    "collapsed": true
   },
   "outputs": [],
   "source": [
    "?train_test_split"
   ]
  },
  {
   "cell_type": "code",
   "execution_count": 95,
   "metadata": {},
   "outputs": [
    {
     "data": {
      "text/plain": [
       "array([[9, 0, 'Black', 25.0, 29000.0],\n",
       "       [3, 0, nan, 25.0, 26833.333333333332],\n",
       "       [6, 0, nan, 23.0, 35000.0],\n",
       "       [1, 1, 'Black', 22.0, 26833.333333333332],\n",
       "       [4, 0, 'White', 25.0, 30000.0],\n",
       "       [2, 1, 'White', 22.0, 26833.333333333332],\n",
       "       [8, 0, nan, 24.0, 26833.333333333332],\n",
       "       [5, 1, nan, 21.0, 22000.0]], dtype=object)"
      ]
     },
     "execution_count": 95,
     "metadata": {},
     "output_type": "execute_result"
    }
   ],
   "source": [
    "x_train"
   ]
  },
  {
   "cell_type": "code",
   "execution_count": 101,
   "metadata": {},
   "outputs": [
    {
     "data": {
      "text/plain": [
       "array([[  2.50000000e+01,   2.90000000e+04],\n",
       "       [  2.50000000e+01,              nan],\n",
       "       [  2.30000000e+01,   3.50000000e+04],\n",
       "       [  2.20000000e+01,              nan],\n",
       "       [  2.50000000e+01,   3.00000000e+04],\n",
       "       [  2.20000000e+01,              nan],\n",
       "       [  2.40000000e+01,              nan],\n",
       "       [  2.10000000e+01,   2.20000000e+04]])"
      ]
     },
     "execution_count": 101,
     "metadata": {},
     "output_type": "execute_result"
    }
   ],
   "source": [
    "y_train"
   ]
  },
  {
   "cell_type": "code",
   "execution_count": 97,
   "metadata": {},
   "outputs": [
    {
     "data": {
      "text/plain": [
       "array([[7, 0, nan, 24.0, 20000.0],\n",
       "       [0, 0, 'White', 23.0, 25000.0]], dtype=object)"
      ]
     },
     "execution_count": 97,
     "metadata": {},
     "output_type": "execute_result"
    }
   ],
   "source": [
    "x_test"
   ]
  },
  {
   "cell_type": "code",
   "execution_count": 98,
   "metadata": {},
   "outputs": [
    {
     "data": {
      "text/plain": [
       "array([[  2.40000000e+01,   2.00000000e+04],\n",
       "       [  2.30000000e+01,   2.50000000e+04]])"
      ]
     },
     "execution_count": 98,
     "metadata": {},
     "output_type": "execute_result"
    }
   ],
   "source": [
    "y_test"
   ]
  },
  {
   "cell_type": "code",
   "execution_count": 102,
   "metadata": {},
   "outputs": [
    {
     "data": {
      "text/plain": [
       "array(['Yes', 'No', 'Yes', 'Yes', 'No', 'No', 'Yes', 'No', 'No', 'Yes'], dtype=object)"
      ]
     },
     "execution_count": 102,
     "metadata": {},
     "output_type": "execute_result"
    }
   ],
   "source": [
    "y"
   ]
  },
  {
   "cell_type": "code",
   "execution_count": null,
   "metadata": {
    "collapsed": true
   },
   "outputs": [],
   "source": []
  }
 ],
 "metadata": {
  "kernelspec": {
   "display_name": "Python 3",
   "language": "python",
   "name": "python3"
  },
  "language_info": {
   "codemirror_mode": {
    "name": "ipython",
    "version": 3
   },
   "file_extension": ".py",
   "mimetype": "text/x-python",
   "name": "python",
   "nbconvert_exporter": "python",
   "pygments_lexer": "ipython3",
   "version": "3.6.3"
  }
 },
 "nbformat": 4,
 "nbformat_minor": 2
}
